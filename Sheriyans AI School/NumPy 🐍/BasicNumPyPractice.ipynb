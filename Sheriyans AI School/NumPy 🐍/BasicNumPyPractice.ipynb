{
 "cells": [
  {
   "cell_type": "code",
   "execution_count": 1,
   "id": "960f01e6-590d-4823-b868-a9515458a3a5",
   "metadata": {},
   "outputs": [],
   "source": [
    "import numpy as np\n",
    "# Basic Array Creation"
   ]
  },
  {
   "cell_type": "code",
   "execution_count": 2,
   "id": "51e264d2-dfd4-4623-9d2d-54dfedd6b097",
   "metadata": {},
   "outputs": [
    {
     "data": {
      "text/plain": [
       "array([12, 34, 65, 34, 78, 21])"
      ]
     },
     "execution_count": 2,
     "metadata": {},
     "output_type": "execute_result"
    }
   ],
   "source": [
    "# // Array creation\n",
    "arr = np.array([12,34,65,34,78,21])\n",
    "arr"
   ]
  },
  {
   "cell_type": "code",
   "execution_count": 3,
   "id": "86f3c032-2dbf-4bbb-addb-4f1efb20ee3f",
   "metadata": {},
   "outputs": [
    {
     "data": {
      "text/plain": [
       "array([[12, 43, 54, 35, 76, 67]])"
      ]
     },
     "execution_count": 3,
     "metadata": {},
     "output_type": "execute_result"
    }
   ],
   "source": [
    "# // List to array like matrix form\n",
    "l = [[12,43,54,35,76,67]]\n",
    "np.array(l)"
   ]
  },
  {
   "cell_type": "code",
   "execution_count": 4,
   "id": "a95aec93-5f93-4ff7-ad60-aee661167c29",
   "metadata": {},
   "outputs": [
    {
     "data": {
      "text/plain": [
       "array([0, 2, 4, 6, 8])"
      ]
     },
     "execution_count": 4,
     "metadata": {},
     "output_type": "execute_result"
    }
   ],
   "source": [
    "#// Make array sing arange method(starting : ending : steps)\n",
    "arr = np.arange(0,10,2)\n",
    "arr"
   ]
  },
  {
   "cell_type": "code",
   "execution_count": 5,
   "id": "a8bb31f2-911f-4859-8ad9-ebde37aa9952",
   "metadata": {},
   "outputs": [
    {
     "data": {
      "text/plain": [
       "array([[0., 0., 0., 0., 0., 0., 0., 0.],\n",
       "       [0., 0., 0., 0., 0., 0., 0., 0.],\n",
       "       [0., 0., 0., 0., 0., 0., 0., 0.],\n",
       "       [0., 0., 0., 0., 0., 0., 0., 0.]])"
      ]
     },
     "execution_count": 5,
     "metadata": {},
     "output_type": "execute_result"
    }
   ],
   "source": [
    "#// Zerose inside array like matrix \n",
    "arr = np.zeros((4,8))\n",
    "arr"
   ]
  },
  {
   "cell_type": "code",
   "execution_count": 6,
   "id": "f3076b0e-8b0d-4e81-8c33-8de893f74f8f",
   "metadata": {},
   "outputs": [
    {
     "data": {
      "text/plain": [
       "array([ 0.        ,  1.72413793,  3.44827586,  5.17241379,  6.89655172,\n",
       "        8.62068966, 10.34482759, 12.06896552, 13.79310345, 15.51724138,\n",
       "       17.24137931, 18.96551724, 20.68965517, 22.4137931 , 24.13793103,\n",
       "       25.86206897, 27.5862069 , 29.31034483, 31.03448276, 32.75862069,\n",
       "       34.48275862, 36.20689655, 37.93103448, 39.65517241, 41.37931034,\n",
       "       43.10344828, 44.82758621, 46.55172414, 48.27586207, 50.        ])"
      ]
     },
     "execution_count": 6,
     "metadata": {},
     "output_type": "execute_result"
    }
   ],
   "source": [
    "#// Linespace -> Defines no of elements in a range from starting to end (starting : endpoint : no. of elements inside the range)\n",
    "arr = np.linspace(0,50,30)\n",
    "arr"
   ]
  },
  {
   "cell_type": "code",
   "execution_count": 7,
   "id": "2786d4c7-dc44-40c0-a21f-677f5d954127",
   "metadata": {},
   "outputs": [],
   "source": [
    "import random #// This module is used to generate random numbers."
   ]
  },
  {
   "cell_type": "code",
   "execution_count": 8,
   "id": "e7401f47-e1c9-4c35-9d6d-799e1a5e5ce7",
   "metadata": {},
   "outputs": [
    {
     "data": {
      "text/plain": [
       "array([0.14234729, 0.22090855, 0.67896881, 0.48733234, 0.77276603,\n",
       "       0.70929135, 0.57760084, 0.91648343, 0.3070553 , 0.61853947])"
      ]
     },
     "execution_count": 8,
     "metadata": {},
     "output_type": "execute_result"
    }
   ],
   "source": [
    "arr = np.random.rand(10) #// Normalization (gives numbers between 1 and 0)\n",
    "arr"
   ]
  },
  {
   "cell_type": "code",
   "execution_count": 9,
   "id": "d2018be0-a54a-47ed-8e58-b8380eaeb842",
   "metadata": {},
   "outputs": [
    {
     "data": {
      "text/plain": [
       "array([ 1.73401554,  0.89770267, -1.59833067, -0.03339912,  0.18192996,\n",
       "       -0.88527368,  0.12831531, -0.81971362, -0.46516943,  0.08497895])"
      ]
     },
     "execution_count": 9,
     "metadata": {},
     "output_type": "execute_result"
    }
   ],
   "source": [
    "arr = np.random.randn(10) #// Gives numbers between -3 and 3)\n",
    "arr"
   ]
  },
  {
   "cell_type": "code",
   "execution_count": 10,
   "id": "474c1f90-8567-420f-a108-007ab3a275be",
   "metadata": {},
   "outputs": [
    {
     "data": {
      "text/plain": [
       "array([15, 17, 10, 16, 11, 15, 18, 15, 18, 18], dtype=int32)"
      ]
     },
     "execution_count": 10,
     "metadata": {},
     "output_type": "execute_result"
    }
   ],
   "source": [
    "arr = np.random.randint(10,20,10) #// gives random numbers in a range randomly everytime. (starting : ending : no. of elements)\n",
    "arr"
   ]
  },
  {
   "cell_type": "code",
   "execution_count": 11,
   "id": "9c0e33c4-bd07-4d13-ad74-19a69009ec89",
   "metadata": {},
   "outputs": [
    {
     "data": {
      "text/plain": [
       "array([[ 1,  2,  3],\n",
       "       [ 4,  5,  6],\n",
       "       [ 7,  8,  9],\n",
       "       [10, 11, 12]])"
      ]
     },
     "execution_count": 11,
     "metadata": {},
     "output_type": "execute_result"
    }
   ],
   "source": [
    "#//Array Attributes\n",
    "arr = np.array([[1,2,3],[4,5,6],[7,8,9],[10,11,12]]) #// Array like matrix\n",
    "arr"
   ]
  },
  {
   "cell_type": "code",
   "execution_count": 12,
   "id": "2dfa08c6-2618-4058-ad42-79aaa026650a",
   "metadata": {},
   "outputs": [
    {
     "data": {
      "text/plain": [
       "(4, 3)"
      ]
     },
     "execution_count": 12,
     "metadata": {},
     "output_type": "execute_result"
    }
   ],
   "source": [
    "arr.shape #// Gives shape of the matrix (order of matrix)"
   ]
  },
  {
   "cell_type": "code",
   "execution_count": 13,
   "id": "96f249c7-17f4-4fe3-b52d-b8ee696e4b5d",
   "metadata": {},
   "outputs": [
    {
     "data": {
      "text/plain": [
       "12"
      ]
     },
     "execution_count": 13,
     "metadata": {},
     "output_type": "execute_result"
    }
   ],
   "source": [
    "arr.size #// Gives the size -> no of elements inside the matrix"
   ]
  },
  {
   "cell_type": "code",
   "execution_count": 14,
   "id": "713d0519-b572-414b-a4fc-886638d6f03d",
   "metadata": {},
   "outputs": [
    {
     "data": {
      "text/plain": [
       "dtype('int64')"
      ]
     },
     "execution_count": 14,
     "metadata": {},
     "output_type": "execute_result"
    }
   ],
   "source": [
    "arr.dtype #// Gives the datatype"
   ]
  },
  {
   "cell_type": "code",
   "execution_count": 15,
   "id": "2455a0d1-81cb-4d22-8546-2cf99ccffca3",
   "metadata": {},
   "outputs": [
    {
     "data": {
      "text/plain": [
       "np.int64(1)"
      ]
     },
     "execution_count": 15,
     "metadata": {},
     "output_type": "execute_result"
    }
   ],
   "source": [
    "#// Array Methods\n",
    "arr.min() #// Gives the smallest number in the array of matrix"
   ]
  },
  {
   "cell_type": "code",
   "execution_count": 16,
   "id": "9ac93546-d51b-4f24-b6f3-eef12a9233a2",
   "metadata": {},
   "outputs": [
    {
     "data": {
      "text/plain": [
       "np.int64(12)"
      ]
     },
     "execution_count": 16,
     "metadata": {},
     "output_type": "execute_result"
    }
   ],
   "source": [
    "arr.max() #// Gives the largest number inside an array of matrix"
   ]
  },
  {
   "cell_type": "code",
   "execution_count": 17,
   "id": "36bf89ef-14d6-43d9-9e4b-0fd3887945cf",
   "metadata": {},
   "outputs": [
    {
     "data": {
      "text/plain": [
       "np.int64(78)"
      ]
     },
     "execution_count": 17,
     "metadata": {},
     "output_type": "execute_result"
    }
   ],
   "source": [
    "arr.sum() #// Gives the sum of elements inside the array of matrix"
   ]
  },
  {
   "cell_type": "code",
   "execution_count": 18,
   "id": "4ebdcadd-a071-4ff9-9ce0-9700e1a51a77",
   "metadata": {},
   "outputs": [
    {
     "data": {
      "text/plain": [
       "array([22, 26, 30])"
      ]
     },
     "execution_count": 18,
     "metadata": {},
     "output_type": "execute_result"
    }
   ],
   "source": [
    "np.sum(arr,axis=0) #// Gives sum of elements in a column(vertical)"
   ]
  },
  {
   "cell_type": "code",
   "execution_count": 19,
   "id": "c4fd83d8-9f54-4e2b-b6fb-703fe9374515",
   "metadata": {},
   "outputs": [
    {
     "data": {
      "text/plain": [
       "array([ 6, 15, 24, 33])"
      ]
     },
     "execution_count": 19,
     "metadata": {},
     "output_type": "execute_result"
    }
   ],
   "source": [
    "np.sum(arr,axis=1) #// Gives sum of elements in a row(horizontal)"
   ]
  },
  {
   "cell_type": "code",
   "execution_count": 20,
   "id": "9cd1f255-6d26-4503-b1a8-06a4af6f438e",
   "metadata": {},
   "outputs": [
    {
     "data": {
      "text/plain": [
       "np.float64(3.452052529534663)"
      ]
     },
     "execution_count": 20,
     "metadata": {},
     "output_type": "execute_result"
    }
   ],
   "source": [
    "arr.std() # To find standard deviation"
   ]
  },
  {
   "cell_type": "code",
   "execution_count": 21,
   "id": "7f2dea63-bb11-4868-b38a-64df8881f9db",
   "metadata": {},
   "outputs": [
    {
     "data": {
      "text/plain": [
       "np.int64(11)"
      ]
     },
     "execution_count": 21,
     "metadata": {},
     "output_type": "execute_result"
    }
   ],
   "source": [
    "arr.argmax() #// Maximun index"
   ]
  },
  {
   "cell_type": "code",
   "execution_count": 22,
   "id": "cfc40414-2587-4cb9-b3a2-7ef42d2e31d4",
   "metadata": {},
   "outputs": [
    {
     "data": {
      "text/plain": [
       "np.int64(0)"
      ]
     },
     "execution_count": 22,
     "metadata": {},
     "output_type": "execute_result"
    }
   ],
   "source": [
    "arr.argmin() #// Minimum index"
   ]
  },
  {
   "cell_type": "code",
   "execution_count": 23,
   "id": "c0754b11-9934-4c1e-b6b1-a9923f34d401",
   "metadata": {},
   "outputs": [
    {
     "data": {
      "text/plain": [
       "array([ 1,  2,  3,  4,  5,  6,  7,  8,  9, 10, 11, 12, 13, 14, 15, 16, 17,\n",
       "       18, 19, 20, 21, 22, 23, 24, 25, 26, 27, 28, 29, 30])"
      ]
     },
     "execution_count": 23,
     "metadata": {},
     "output_type": "execute_result"
    }
   ],
   "source": [
    "arr = np.arange(1,31)\n",
    "arr"
   ]
  },
  {
   "cell_type": "code",
   "execution_count": 24,
   "id": "954ba74b-30d3-4352-8b9e-180e01f743d6",
   "metadata": {},
   "outputs": [
    {
     "data": {
      "text/plain": [
       "array([ 1,  2,  3,  4,  5,  6,  7,  8,  9, 10, 11, 12, 13, 14, 15, 16, 17,\n",
       "       18, 19, 20, 21, 22, 23, 24, 25, 26, 27, 28, 29, 30])"
      ]
     },
     "execution_count": 24,
     "metadata": {},
     "output_type": "execute_result"
    }
   ],
   "source": [
    "arr.reshape(6,5)\n",
    "arr"
   ]
  },
  {
   "cell_type": "code",
   "execution_count": 25,
   "id": "f0f1f420-b5fb-4cbf-915d-2f920f72bae2",
   "metadata": {},
   "outputs": [
    {
     "data": {
      "text/plain": [
       "array([10, 11, 12, 13, 14, 15, 16, 17, 18, 19, 20, 21, 22, 23, 24, 25, 26,\n",
       "       27, 28, 29, 30, 31, 32, 33, 34, 35, 36, 37, 38, 39, 40, 41, 42, 43,\n",
       "       44, 45, 46, 47, 48, 49])"
      ]
     },
     "execution_count": 25,
     "metadata": {},
     "output_type": "execute_result"
    }
   ],
   "source": [
    "# NuPy Indexing and Slicing of Vectors\n",
    "arr = np.arange(10,50)\n",
    "arr"
   ]
  },
  {
   "cell_type": "code",
   "execution_count": 26,
   "id": "026859e4-5858-4b1c-8459-bc0d5a78acef",
   "metadata": {},
   "outputs": [
    {
     "data": {
      "text/plain": [
       "np.int64(45)"
      ]
     },
     "execution_count": 26,
     "metadata": {},
     "output_type": "execute_result"
    }
   ],
   "source": [
    "arr[35] #// Array Indexing"
   ]
  },
  {
   "cell_type": "code",
   "execution_count": 27,
   "id": "4e4170b6-340e-4edd-9e10-9c0b6c80c480",
   "metadata": {},
   "outputs": [
    {
     "data": {
      "text/plain": [
       "array([12, 13, 14])"
      ]
     },
     "execution_count": 27,
     "metadata": {},
     "output_type": "execute_result"
    }
   ],
   "source": [
    "arr[2:5] #// Array Slicing -> [Position of starting : ending ]"
   ]
  },
  {
   "cell_type": "code",
   "execution_count": 28,
   "id": "2e935ab3-e491-4bce-a8b0-52c37f94d091",
   "metadata": {},
   "outputs": [
    {
     "data": {
      "text/plain": [
       "array([11, 13, 15, 17, 19, 21, 23, 25, 27, 29, 31, 33, 35, 37, 39, 41, 43])"
      ]
     },
     "execution_count": 28,
     "metadata": {},
     "output_type": "execute_result"
    }
   ],
   "source": [
    "arr[1:35:2] #// Array Slicing In between anywhere -> [From where to start : till where to go : Steps to take]"
   ]
  },
  {
   "cell_type": "code",
   "execution_count": 29,
   "id": "8e523e1e-149b-49e5-8203-afc57b73afcc",
   "metadata": {},
   "outputs": [
    {
     "data": {
      "text/plain": [
       "array([[ 1,  2,  3,  4,  5],\n",
       "       [ 6,  7,  8,  9, 10],\n",
       "       [11, 12, 13, 14, 15],\n",
       "       [16, 17, 18, 19, 20],\n",
       "       [21, 22, 23, 24, 25],\n",
       "       [26, 27, 28, 29, 30]])"
      ]
     },
     "execution_count": 29,
     "metadata": {},
     "output_type": "execute_result"
    }
   ],
   "source": [
    "arr = np.arange(1,31).reshape(6,5)\n",
    "arr"
   ]
  },
  {
   "cell_type": "code",
   "execution_count": 30,
   "id": "01da53f0-9c32-4a91-a376-45ea36f4cb78",
   "metadata": {},
   "outputs": [
    {
     "data": {
      "text/plain": [
       "np.int64(15)"
      ]
     },
     "execution_count": 30,
     "metadata": {},
     "output_type": "execute_result"
    }
   ],
   "source": [
    "arr[2,4]"
   ]
  },
  {
   "cell_type": "code",
   "execution_count": 31,
   "id": "65912942-afcb-44d9-8e59-2ea0941ad1c2",
   "metadata": {},
   "outputs": [
    {
     "data": {
      "text/plain": [
       "array([[10],\n",
       "       [15],\n",
       "       [20]])"
      ]
     },
     "execution_count": 31,
     "metadata": {},
     "output_type": "execute_result"
    }
   ],
   "source": [
    "arr[1:4,4:5]"
   ]
  },
  {
   "cell_type": "code",
   "execution_count": 32,
   "id": "cf03cd74-2e85-40ba-807c-e0a5f8fba736",
   "metadata": {},
   "outputs": [
    {
     "data": {
      "text/plain": [
       "array([[ 3,  4,  5],\n",
       "       [ 8,  9, 10],\n",
       "       [13, 14, 15]])"
      ]
     },
     "execution_count": 32,
     "metadata": {},
     "output_type": "execute_result"
    }
   ],
   "source": [
    "arr[0:3,2:5] #// [Starting index no of row : no of row till where it go , starting index no of column : no of row till where it go ]"
   ]
  },
  {
   "cell_type": "code",
   "execution_count": 33,
   "id": "0081feab-d0fd-4a61-8f25-c08e1963d2c4",
   "metadata": {},
   "outputs": [
    {
     "data": {
      "text/plain": [
       "array([11, 12, 13, 14, 15, 16, 17, 18, 19, 20])"
      ]
     },
     "execution_count": 33,
     "metadata": {},
     "output_type": "execute_result"
    }
   ],
   "source": [
    "#//Boolean Indexing \n",
    "arr = np.arange(11,21)\n",
    "arr"
   ]
  },
  {
   "cell_type": "code",
   "execution_count": 34,
   "id": "865c3174-55da-4171-b8f5-bf532619e1b8",
   "metadata": {},
   "outputs": [
    {
     "data": {
      "text/plain": [
       "array([12, 14, 16, 18, 20])"
      ]
     },
     "execution_count": 34,
     "metadata": {},
     "output_type": "execute_result"
    }
   ],
   "source": [
    "boolen_Index = arr % 2 == 0\n",
    "arr = arr[boolen_Index]\n",
    "arr"
   ]
  },
  {
   "cell_type": "code",
   "execution_count": 35,
   "id": "6e8f19d3-60f5-438b-aef2-4a7d6edfbe0c",
   "metadata": {},
   "outputs": [
    {
     "data": {
      "text/plain": [
       "array([12, 32, 45, 65, 24, 19])"
      ]
     },
     "execution_count": 35,
     "metadata": {},
     "output_type": "execute_result"
    }
   ],
   "source": [
    "# Broadcasting\n",
    "l = [12,32,45,65,24,19]\n",
    "arr = np.array(l)\n",
    "arr"
   ]
  },
  {
   "cell_type": "code",
   "execution_count": 36,
   "id": "63169898-4730-4d2a-a1a6-baf5d0ee7780",
   "metadata": {},
   "outputs": [
    {
     "data": {
      "text/plain": [
       "array([32, 52, 65, 85, 44, 39])"
      ]
     },
     "execution_count": 36,
     "metadata": {},
     "output_type": "execute_result"
    }
   ],
   "source": [
    "arr + 20 #//Breadcasting the array"
   ]
  },
  {
   "cell_type": "code",
   "execution_count": 41,
   "id": "dd016e06-2e5d-440b-92a4-9153ee962fdd",
   "metadata": {},
   "outputs": [
    {
     "data": {
      "text/plain": [
       "array([[ 1,  2,  3,  4,  5,  6,  7,  8,  9, 10],\n",
       "       [11, 12, 13, 14, 15, 16, 17, 18, 19, 20]])"
      ]
     },
     "execution_count": 41,
     "metadata": {},
     "output_type": "execute_result"
    }
   ],
   "source": [
    "#// Advanced Array Manipulation\n",
    "a = np.array([1,2,3,4,5,6,7,8,9,10])\n",
    "b = np.array([11,12,13,14,15,16,17,18,19,20])\n",
    "arr = np.vstack((a,b)) #// Vertical Stacking of Arrays\n",
    "arr"
   ]
  },
  {
   "cell_type": "code",
   "execution_count": 42,
   "id": "2b5e285f-05a2-41cb-a32f-3d6e6ac92c2f",
   "metadata": {},
   "outputs": [
    {
     "data": {
      "text/plain": [
       "array([ 1,  2,  3,  4,  5,  6,  7,  8,  9, 10, 11, 12, 13, 14, 15, 16, 17,\n",
       "       18, 19, 20])"
      ]
     },
     "execution_count": 42,
     "metadata": {},
     "output_type": "execute_result"
    }
   ],
   "source": [
    "arr2 = np.hstack((a,b)) #//Horizontal Stacking of Array\n",
    "arr2"
   ]
  },
  {
   "cell_type": "code",
   "execution_count": 54,
   "id": "f6e17b01-5394-41ce-859a-8cab8bab199d",
   "metadata": {},
   "outputs": [
    {
     "data": {
      "text/plain": [
       "array([[ 1, 11],\n",
       "       [ 2, 12],\n",
       "       [ 3, 13],\n",
       "       [ 4, 14],\n",
       "       [ 5, 15],\n",
       "       [ 6, 16],\n",
       "       [ 7, 17],\n",
       "       [ 8, 18],\n",
       "       [ 9, 19],\n",
       "       [10, 20]])"
      ]
     },
     "execution_count": 54,
     "metadata": {},
     "output_type": "execute_result"
    }
   ],
   "source": [
    "arr3 = np.column_stack((a,b))\n",
    "arr3"
   ]
  },
  {
   "cell_type": "code",
   "execution_count": 55,
   "id": "fe8b1f9b-ad4d-4876-9fc2-493b7143b5f3",
   "metadata": {},
   "outputs": [
    {
     "data": {
      "text/plain": [
       "[array([[ 1,  2,  3,  4,  5],\n",
       "        [11, 12, 13, 14, 15]]),\n",
       " array([[ 6,  7,  8,  9, 10],\n",
       "        [16, 17, 18, 19, 20]])]"
      ]
     },
     "execution_count": 55,
     "metadata": {},
     "output_type": "execute_result"
    }
   ],
   "source": [
    "C = arr #// First need to put the array inside a container before splitting\n",
    "arr4 = np.hsplit(C,2) #//Horizontal Splitting\n",
    "arr4"
   ]
  },
  {
   "cell_type": "code",
   "execution_count": 56,
   "id": "5beba35c-0cd3-4c65-95a7-0c5469ca0e61",
   "metadata": {},
   "outputs": [
    {
     "data": {
      "text/plain": [
       "array([[ 1,  2,  3,  4,  5,  6,  7,  8,  9, 10],\n",
       "       [11, 12, 13, 14, 15, 16, 17, 18, 19, 20]])"
      ]
     },
     "execution_count": 56,
     "metadata": {},
     "output_type": "execute_result"
    }
   ],
   "source": [
    "arr4 = np.vsplit(C,2) #//Vertical Splitting\n",
    "arr"
   ]
  },
  {
   "cell_type": "code",
   "execution_count": null,
   "id": "7acb5f25-770f-4bcf-aeb1-e8631e6264eb",
   "metadata": {},
   "outputs": [],
   "source": []
  }
 ],
 "metadata": {
  "kernelspec": {
   "display_name": "Python 3 (ipykernel)",
   "language": "python",
   "name": "python3"
  },
  "language_info": {
   "codemirror_mode": {
    "name": "ipython",
    "version": 3
   },
   "file_extension": ".py",
   "mimetype": "text/x-python",
   "name": "python",
   "nbconvert_exporter": "python",
   "pygments_lexer": "ipython3",
   "version": "3.13.5"
  }
 },
 "nbformat": 4,
 "nbformat_minor": 5
}
