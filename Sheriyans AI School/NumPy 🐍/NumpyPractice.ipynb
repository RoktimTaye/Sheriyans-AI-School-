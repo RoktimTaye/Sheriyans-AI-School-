{
 "cells": [
  {
   "cell_type": "code",
   "execution_count": 79,
   "id": "211ccd72",
   "metadata": {},
   "outputs": [],
   "source": [
    "import numpy as np\n",
    "import random as rd"
   ]
  },
  {
   "cell_type": "code",
   "execution_count": 80,
   "id": "6eaba3a6",
   "metadata": {},
   "outputs": [
    {
     "data": {
      "text/plain": [
       "array([1, 2, 3, 4, 5])"
      ]
     },
     "execution_count": 80,
     "metadata": {},
     "output_type": "execute_result"
    }
   ],
   "source": [
    "arr = np.array([1, 2, 3, 4, 5])\n",
    "arr"
   ]
  },
  {
   "cell_type": "code",
   "execution_count": 81,
   "id": "416fc751",
   "metadata": {},
   "outputs": [
    {
     "data": {
      "text/plain": [
       "array([[1, 2, 3],\n",
       "       [4, 5, 6],\n",
       "       [7, 8, 9]])"
      ]
     },
     "execution_count": 81,
     "metadata": {},
     "output_type": "execute_result"
    }
   ],
   "source": [
    "l = [[1,2,3], [4,5,6], [7,8,9]]\n",
    "arr2 = np.array(l)\n",
    "arr2"
   ]
  },
  {
   "cell_type": "code",
   "execution_count": 82,
   "id": "1f9debfe",
   "metadata": {},
   "outputs": [
    {
     "data": {
      "text/plain": [
       "array([ 1,  6, 11, 16, 21, 26, 31, 36, 41, 46])"
      ]
     },
     "execution_count": 82,
     "metadata": {},
     "output_type": "execute_result"
    }
   ],
   "source": [
    "arr = np.arange(1,50,5)\n",
    "arr"
   ]
  },
  {
   "cell_type": "code",
   "execution_count": 83,
   "id": "37c661cf",
   "metadata": {},
   "outputs": [
    {
     "data": {
      "text/plain": [
       "array([[0., 0., 0., 0.],\n",
       "       [0., 0., 0., 0.],\n",
       "       [0., 0., 0., 0.]])"
      ]
     },
     "execution_count": 83,
     "metadata": {},
     "output_type": "execute_result"
    }
   ],
   "source": [
    "arr = np.zeros((3, 4))\n",
    "arr"
   ]
  },
  {
   "cell_type": "code",
   "execution_count": 84,
   "id": "6c286c00",
   "metadata": {},
   "outputs": [
    {
     "data": {
      "text/plain": [
       "array([[1., 1., 1., 1.],\n",
       "       [1., 1., 1., 1.],\n",
       "       [1., 1., 1., 1.]])"
      ]
     },
     "execution_count": 84,
     "metadata": {},
     "output_type": "execute_result"
    }
   ],
   "source": [
    "arr = np.ones((3, 4))\n",
    "arr"
   ]
  },
  {
   "cell_type": "code",
   "execution_count": 85,
   "id": "2692a1ff",
   "metadata": {},
   "outputs": [
    {
     "data": {
      "text/plain": [
       "array([0.28578425, 0.81274751, 0.33635146, 0.37343004, 0.69028792,\n",
       "       0.41660258, 0.55649048, 0.20299492, 0.68215317, 0.12380421,\n",
       "       0.58605603, 0.24814244, 0.59597376, 0.41337319, 0.87921962,\n",
       "       0.31184517, 0.50940037, 0.15509177, 0.54440306, 0.30578407,\n",
       "       0.50642403, 0.38067089, 0.84022322, 0.11663571, 0.41066024,\n",
       "       0.8193342 , 0.99812673, 0.13774096, 0.17759028, 0.0189259 ,\n",
       "       0.67880353, 0.94808473, 0.23683381, 0.81717457, 0.50082339,\n",
       "       0.89129799, 0.01256404, 0.45059579, 0.54454117, 0.72468533,\n",
       "       0.66540827, 0.83767233, 0.08950809, 0.40927283, 0.86874174])"
      ]
     },
     "execution_count": 85,
     "metadata": {},
     "output_type": "execute_result"
    }
   ],
   "source": [
    "np.random.rand(45)"
   ]
  },
  {
   "cell_type": "code",
   "execution_count": 86,
   "id": "40211ad1",
   "metadata": {},
   "outputs": [
    {
     "data": {
      "text/plain": [
       "array([-0.08651295, -0.8114584 , -1.58043934,  0.76256749, -0.16667079,\n",
       "        0.05631492, -0.35019355,  0.67365316, -0.07777089,  1.08374957,\n",
       "       -0.90869593, -0.88691902,  0.73465746,  0.93971465, -1.27304118,\n",
       "        0.75889889, -0.35217106, -0.13092671, -0.41708245, -0.07346521,\n",
       "        2.44963294, -0.82870056, -0.13744044,  0.00559856, -3.25698456,\n",
       "       -0.44279828, -0.22572927,  0.52661895,  2.42107238, -1.59926913,\n",
       "       -0.67252429,  1.01732015, -0.45758725, -0.57924419, -0.92960674,\n",
       "        0.15155053,  0.19067042, -0.49737613,  1.07338644, -0.45169814,\n",
       "        0.17747408,  0.86076035,  0.34869401, -1.43571106, -0.12038841])"
      ]
     },
     "execution_count": 86,
     "metadata": {},
     "output_type": "execute_result"
    }
   ],
   "source": [
    "np.random.randn(45)"
   ]
  },
  {
   "cell_type": "code",
   "execution_count": 87,
   "id": "d5b2f75e",
   "metadata": {},
   "outputs": [
    {
     "data": {
      "text/plain": [
       "array([94, 42, 68, 47, 37, 81, 76, 21, 93, 15, 35, 23, 89, 18, 65, 55, 74,\n",
       "       36, 92, 63, 28, 74, 85, 24, 56, 55, 67, 27, 66, 91, 15, 13, 66, 84,\n",
       "       83, 21, 17, 30, 97, 51,  1, 64, 46, 49, 25], dtype=int32)"
      ]
     },
     "execution_count": 87,
     "metadata": {},
     "output_type": "execute_result"
    }
   ],
   "source": [
    "np.random.randint(1, 100, 45)"
   ]
  },
  {
   "cell_type": "code",
   "execution_count": 88,
   "id": "e8b46eaf",
   "metadata": {},
   "outputs": [
    {
     "data": {
      "text/plain": [
       "(3, 3)"
      ]
     },
     "execution_count": 88,
     "metadata": {},
     "output_type": "execute_result"
    }
   ],
   "source": [
    "arr2.shape  # Output the shape of the array"
   ]
  },
  {
   "cell_type": "code",
   "execution_count": 89,
   "id": "6fbc5957",
   "metadata": {},
   "outputs": [
    {
     "data": {
      "text/plain": [
       "12"
      ]
     },
     "execution_count": 89,
     "metadata": {},
     "output_type": "execute_result"
    }
   ],
   "source": [
    "arr.size"
   ]
  },
  {
   "cell_type": "code",
   "execution_count": 90,
   "id": "515336dd",
   "metadata": {},
   "outputs": [
    {
     "data": {
      "text/plain": [
       "np.int64(1)"
      ]
     },
     "execution_count": 90,
     "metadata": {},
     "output_type": "execute_result"
    }
   ],
   "source": [
    "arr2.min()  # Minimum value in the array"
   ]
  },
  {
   "cell_type": "code",
   "execution_count": 91,
   "id": "d6949c65",
   "metadata": {},
   "outputs": [
    {
     "data": {
      "text/plain": [
       "np.int64(9)"
      ]
     },
     "execution_count": 91,
     "metadata": {},
     "output_type": "execute_result"
    }
   ],
   "source": [
    "arr2.max()  # Maximum value in the array"
   ]
  },
  {
   "cell_type": "code",
   "execution_count": 92,
   "id": "a83710fa",
   "metadata": {},
   "outputs": [
    {
     "data": {
      "text/plain": [
       "np.float64(12.0)"
      ]
     },
     "execution_count": 92,
     "metadata": {},
     "output_type": "execute_result"
    }
   ],
   "source": [
    "arr.sum()  # Sum of all elements in the array"
   ]
  },
  {
   "cell_type": "code",
   "execution_count": 93,
   "id": "4ddfccdb",
   "metadata": {},
   "outputs": [
    {
     "data": {
      "text/plain": [
       "array([ 1,  2,  3,  4,  5,  6,  7,  8,  9, 10, 11, 12, 13, 14, 15, 16, 17,\n",
       "       18, 19, 20, 21, 22, 23, 24, 25, 26, 27, 28, 29, 30, 31, 32, 33, 34,\n",
       "       35, 36, 37, 38, 39, 40])"
      ]
     },
     "execution_count": 93,
     "metadata": {},
     "output_type": "execute_result"
    }
   ],
   "source": [
    "\n",
    "arr3 = np.arange(1,41)\n",
    "arr3"
   ]
  },
  {
   "cell_type": "code",
   "execution_count": 94,
   "id": "89e8d847",
   "metadata": {},
   "outputs": [
    {
     "data": {
      "text/plain": [
       "array([[ 1,  2,  3,  4,  5],\n",
       "       [ 6,  7,  8,  9, 10],\n",
       "       [11, 12, 13, 14, 15],\n",
       "       [16, 17, 18, 19, 20],\n",
       "       [21, 22, 23, 24, 25],\n",
       "       [26, 27, 28, 29, 30],\n",
       "       [31, 32, 33, 34, 35],\n",
       "       [36, 37, 38, 39, 40]])"
      ]
     },
     "execution_count": 94,
     "metadata": {},
     "output_type": "execute_result"
    }
   ],
   "source": [
    "arr3 =  arr3.reshape(8,5)\n",
    "arr3"
   ]
  },
  {
   "cell_type": "code",
   "execution_count": 95,
   "id": "4cace875",
   "metadata": {},
   "outputs": [
    {
     "data": {
      "text/plain": [
       "array([1, 2, 3, 4, 5])"
      ]
     },
     "execution_count": 95,
     "metadata": {},
     "output_type": "execute_result"
    }
   ],
   "source": [
    "arr = np.array([1, 2, 3, 4, 5])\n",
    "arr"
   ]
  },
  {
   "cell_type": "code",
   "execution_count": 96,
   "id": "4df5a162",
   "metadata": {},
   "outputs": [
    {
     "data": {
      "text/plain": [
       "np.int64(5)"
      ]
     },
     "execution_count": 96,
     "metadata": {},
     "output_type": "execute_result"
    }
   ],
   "source": [
    "arr[4]"
   ]
  },
  {
   "cell_type": "code",
   "execution_count": 97,
   "id": "b42ca734",
   "metadata": {},
   "outputs": [
    {
     "data": {
      "text/plain": [
       "array([2, 3, 4])"
      ]
     },
     "execution_count": 97,
     "metadata": {},
     "output_type": "execute_result"
    }
   ],
   "source": [
    "arr[1:4]"
   ]
  },
  {
   "cell_type": "code",
   "execution_count": 98,
   "id": "e17da3b5",
   "metadata": {},
   "outputs": [
    {
     "data": {
      "text/plain": [
       "array([1, 3, 5])"
      ]
     },
     "execution_count": 98,
     "metadata": {},
     "output_type": "execute_result"
    }
   ],
   "source": [
    "arr[0::2]"
   ]
  },
  {
   "cell_type": "code",
   "execution_count": 99,
   "id": "b2143dd0",
   "metadata": {},
   "outputs": [
    {
     "data": {
      "text/plain": [
       "array([ 1,  2,  3,  4,  5,  6,  7,  8,  9, 10, 11, 12, 13, 14, 15, 16, 17,\n",
       "       18, 19, 20, 21, 22, 23, 24, 25, 26, 27, 28, 29, 30, 31, 32, 33, 34,\n",
       "       35, 36, 37, 38, 39, 40, 41, 42, 43, 44, 45, 46, 47, 48, 49, 50, 51])"
      ]
     },
     "execution_count": 99,
     "metadata": {},
     "output_type": "execute_result"
    }
   ],
   "source": [
    "arr = np.arange(1,52)\n",
    "arr"
   ]
  },
  {
   "cell_type": "code",
   "execution_count": 106,
   "id": "ad75101e",
   "metadata": {},
   "outputs": [
    {
     "data": {
      "text/plain": [
       "array([[ 1,  2,  3,  4,  5,  6,  7,  8,  9, 10, 11, 12, 13, 14, 15, 16,\n",
       "        17],\n",
       "       [18, 19, 20, 21, 22, 23, 24, 25, 26, 27, 28, 29, 30, 31, 32, 33,\n",
       "        34],\n",
       "       [35, 36, 37, 38, 39, 40, 41, 42, 43, 44, 45, 46, 47, 48, 49, 50,\n",
       "        51]])"
      ]
     },
     "execution_count": 106,
     "metadata": {},
     "output_type": "execute_result"
    }
   ],
   "source": [
    "arr = arr.reshape(3,17)  # Reshape the array to 13 rows and 4 columns\n",
    "arr"
   ]
  },
  {
   "cell_type": "code",
   "execution_count": null,
   "id": "521edb14",
   "metadata": {},
   "outputs": [],
   "source": [
    "arr[1:3, 5:11]  # Slicing rows 1 to 2 and columns 5 to 10"
   ]
  },
  {
   "cell_type": "code",
   "execution_count": 107,
   "id": "70519ec1",
   "metadata": {},
   "outputs": [
    {
     "data": {
      "text/plain": [
       "2"
      ]
     },
     "execution_count": 107,
     "metadata": {},
     "output_type": "execute_result"
    }
   ],
   "source": [
    "arr.ndim  # Returns the number of dimensions (should be 2 for a 2D array)  # Slicing the array to get elements from index 5 to 10 in the first dimension and index 1 to 2 in the second dimension"
   ]
  },
  {
   "cell_type": "code",
   "execution_count": 114,
   "id": "fc015b09",
   "metadata": {},
   "outputs": [
    {
     "data": {
      "text/plain": [
       "array([[23, 24, 25, 26, 27]])"
      ]
     },
     "execution_count": 114,
     "metadata": {},
     "output_type": "execute_result"
    }
   ],
   "source": [
    "arr[1:2, 5:10]  # Slicing rows 1 to 2 and columns 5 to 10"
   ]
  },
  {
   "cell_type": "code",
   "execution_count": null,
   "id": "5ae85fa8",
   "metadata": {},
   "outputs": [
    {
     "data": {
      "text/plain": [
       "array([[ 7,  8,  9, 10, 11, 12, 13, 14, 15, 16],\n",
       "       [24, 25, 26, 27, 28, 29, 30, 31, 32, 33],\n",
       "       [41, 42, 43, 44, 45, 46, 47, 48, 49, 50]])"
      ]
     },
     "execution_count": 118,
     "metadata": {},
     "output_type": "execute_result"
    }
   ],
   "source": [
    "arr[0:3,6:16] # Jaha sain cahiye uska indx or jaha tak cahiye usse + 1 wala index lagana hain both row and column"
   ]
  }
 ],
 "metadata": {
  "kernelspec": {
   "display_name": "base",
   "language": "python",
   "name": "python3"
  },
  "language_info": {
   "codemirror_mode": {
    "name": "ipython",
    "version": 3
   },
   "file_extension": ".py",
   "mimetype": "text/x-python",
   "name": "python",
   "nbconvert_exporter": "python",
   "pygments_lexer": "ipython3",
   "version": "3.13.5"
  }
 },
 "nbformat": 4,
 "nbformat_minor": 5
}
